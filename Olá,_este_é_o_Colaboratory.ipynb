{
  "cells": [
    {
      "cell_type": "code",
      "source": [
        "import pandas as pd\n",
        "\n",
        "\"\"\"#DADOS\n",
        "\n",
        "##DADOS DOS FUNCIONARIOS\n",
        "\"\"\"\n",
        "\n",
        "dados = {\n",
        "    'Nome do Funcionário': ['Renata', 'Ribamar', 'Vanessa'],\n",
        "    'Horas Trabalhadas': [6, 8, 12],\n",
        "    'Bugs Corrigidos': [3, 6, 9],\n",
        "    'Tarefas Concluídas': [12, 15, 20],\n",
        "}\n",
        "\n",
        "dados\n",
        "\n",
        "df = pd.DataFrame(dados)\n",
        "\n",
        "\"\"\"##PRODUTIVIDADE DOS FUNCIONARIOS\n",
        "\n",
        "\"\"\"\n",
        "\n",
        "df['Produtividade Diária'] = df['Tarefas Concluídas'] / df['Horas Trabalhadas']\n",
        "\n",
        "total_horas_trabalhadas = df['Horas Trabalhadas'].sum()\n",
        "\n",
        "total_horas_trabalhadas\n",
        "\n",
        "media_diaria_horas_trabalhadas = df['Horas Trabalhadas'].mean()\n",
        "total_bugs_corrigidos = df['Bugs Corrigidos'].sum()\n",
        "media_diaria_bugs_corrigidos = df['Bugs Corrigidos'].mean()\n",
        "total_tarefas_concluidas = df['Tarefas Concluídas'].sum()\n",
        "media_diaria_tarefas_concluidas = df['Tarefas Concluídas'].mean()\n",
        "produtividade_diaria = df['Produtividade Diária'].mean()\n",
        "\n",
        "\"\"\"##DATA DO RELATÓRIO\"\"\"\n",
        "\n",
        "print(\"**Relatório de Progresso Diário**\")\n",
        "print(f\"\\n*Data:* [15/11/2000]]\\n\")\n",
        "\n",
        "\"\"\"##RESULTADOS FINAIS\"\"\"\n",
        "\n",
        "print(\"**Resumo Geral:**\")\n",
        "print(f\"1. Total de Horas Trabalhadas: {total_horas_trabalhadas} horas\")\n",
        "print(f\"2. Média Diária de Horas Trabalhadas: {media_diaria_horas_trabalhadas:.2f} horas\")\n",
        "print(f\"3. Total de Bugs Corrigidos: {total_bugs_corrigidos}\")\n",
        "print(f\"4. Média Diária de Bugs Corrigidos: {media_diaria_bugs_corrigidos:.2f}\")\n",
        "print(f\"5. Total de Tarefas Concluídas: {total_tarefas_concluidas}\")\n",
        "print(f\"6. Média Diária de Tarefas Concluídas: {media_diaria_tarefas_concluidas:.2f}\")\n",
        "print(f\"7. Produtividade Diária (Tarefas Concluídas por Hora): {produtividade_diaria:.2f}\\n\")\n",
        "print(\"Observações e Comentários:\")\n",
        "print(\"- [Inserir comentários específicos sobre o desempenho notável, desafios enfrentados, ou quaisquer eventos relevantes.]\")\n",
        "print(\"\\nMetas e Objetivos para o Próximo Dia:\")\n",
        "print(\"- [Listar metas específicas para o próximo dia, se aplicável.]\")"
      ],
      "metadata": {
        "colab": {
          "base_uri": "https://localhost:8080/"
        },
        "id": "wIFcxOI-kdAP",
        "outputId": "519edf12-5ab0-443a-eef0-2505b0df10bf"
      },
      "execution_count": 8,
      "outputs": [
        {
          "output_type": "stream",
          "name": "stdout",
          "text": [
            "**Relatório de Progresso Diário**\n",
            "\n",
            "*Data:* [15/11/2000]]\n",
            "\n",
            "**Resumo Geral:**\n",
            "1. Total de Horas Trabalhadas: 26 horas\n",
            "2. Média Diária de Horas Trabalhadas: 8.67 horas\n",
            "3. Total de Bugs Corrigidos: 18\n",
            "4. Média Diária de Bugs Corrigidos: 6.00\n",
            "5. Total de Tarefas Concluídas: 47\n",
            "6. Média Diária de Tarefas Concluídas: 15.67\n",
            "7. Produtividade Diária (Tarefas Concluídas por Hora): 1.85\n",
            "\n",
            "Observações e Comentários:\n",
            "- [Inserir comentários específicos sobre o desempenho notável, desafios enfrentados, ou quaisquer eventos relevantes.]\n",
            "\n",
            "Metas e Objetivos para o Próximo Dia:\n",
            "- [Listar metas específicas para o próximo dia, se aplicável.]\n"
          ]
        }
      ]
    }
  ],
  "metadata": {
    "colab": {
      "name": "Olá, este é o Colaboratory",
      "provenance": []
    },
    "kernelspec": {
      "display_name": "Python 3",
      "name": "python3"
    }
  },
  "nbformat": 4,
  "nbformat_minor": 0
}